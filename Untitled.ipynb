{
 "cells": [
  {
   "cell_type": "code",
   "execution_count": 1,
   "id": "transsexual-freight",
   "metadata": {},
   "outputs": [],
   "source": [
    "import neuromake as nm\n",
    "\n",
    "c = nm.Config('config/ex_ds003988.json')\n",
    "c.make_default_templates()\n",
    "c.get_valid_subjects()"
   ]
  },
  {
   "cell_type": "code",
   "execution_count": 2,
   "id": "australian-maine",
   "metadata": {},
   "outputs": [],
   "source": [
    "c.set_setting_key_required('directories','output')"
   ]
  },
  {
   "cell_type": "code",
   "execution_count": 3,
   "id": "moderate-request",
   "metadata": {},
   "outputs": [
    {
     "data": {
      "text/plain": [
       "{'bids': {'__metadata__': {'label': 'BIDS variables',\n",
       "   'required': ['subject'],\n",
       "   'valid': ['subject',\n",
       "    'session',\n",
       "    'anat_acquisition',\n",
       "    'anat_ceagent',\n",
       "    'anat_reconstruction',\n",
       "    'anat_run',\n",
       "    'anat_part',\n",
       "    'anat_mod',\n",
       "    'anat_echo',\n",
       "    'anat_flip',\n",
       "    'anat_inv',\n",
       "    'anat_mt',\n",
       "    'anat_suffix',\n",
       "    'func_task',\n",
       "    'func_acquisition',\n",
       "    'func_ceagent',\n",
       "    'func_reconstruction',\n",
       "    'func_direction',\n",
       "    'func_run',\n",
       "    'func_echo',\n",
       "    'func_part',\n",
       "    'func_suffix',\n",
       "    'dwi_acquisition',\n",
       "    'dwi_direction',\n",
       "    'dwi_run',\n",
       "    'dwi_part',\n",
       "    'dwi_suffix',\n",
       "    'physio_recording',\n",
       "    'physio_suffix',\n",
       "    'fmap_acquisition',\n",
       "    'fmap_ceagent',\n",
       "    'fmap_direction',\n",
       "    'fmap_run',\n",
       "    'fmap_suffix']},\n",
       "  'subject': ['01',\n",
       "   '02',\n",
       "   '03',\n",
       "   '04',\n",
       "   '05',\n",
       "   '06',\n",
       "   '07',\n",
       "   '08',\n",
       "   '09',\n",
       "   '10',\n",
       "   '11',\n",
       "   '12',\n",
       "   '13',\n",
       "   '14',\n",
       "   '15',\n",
       "   '16',\n",
       "   '17',\n",
       "   '18',\n",
       "   '19',\n",
       "   '20',\n",
       "   '21',\n",
       "   '22',\n",
       "   '23',\n",
       "   '24',\n",
       "   '25',\n",
       "   '26',\n",
       "   '27',\n",
       "   '28',\n",
       "   '29',\n",
       "   '30',\n",
       "   '31',\n",
       "   '32',\n",
       "   '33',\n",
       "   '34',\n",
       "   '35',\n",
       "   '36',\n",
       "   '37',\n",
       "   '38',\n",
       "   '39',\n",
       "   '40',\n",
       "   '41',\n",
       "   '42',\n",
       "   '43',\n",
       "   '44',\n",
       "   '45',\n",
       "   '46',\n",
       "   '47',\n",
       "   '48',\n",
       "   '49',\n",
       "   '50',\n",
       "   '51',\n",
       "   '52',\n",
       "   '53',\n",
       "   '54',\n",
       "   '55',\n",
       "   '56'],\n",
       "  'func_task': ['read'],\n",
       "  'func_run': ['1', '2', '3', '4'],\n",
       "  'func_suffix': ['bold'],\n",
       "  'anat_suffix': ['T1w'],\n",
       "  'fmap_acquisition': ['multiband'],\n",
       "  'fmap_direction': ['AP', 'PA'],\n",
       "  'fmap_suffix': ['epi']},\n",
       " 'directories': {'__metadata__': {'label': 'Paths',\n",
       "   'required': ['bids', 'bidslayout', 'working', 'output']},\n",
       "  'working': './working',\n",
       "  'output': './output',\n",
       "  'bids': '/home/burtonjz/bids/ds003988',\n",
       "  'bidslayout': '/home/burtonjz/bidslayoutdb/ds003988',\n",
       "  'neurotools': '../../lib/neurotools.sif',\n",
       "  'spm12': '../../lib/spm12.sif'},\n",
       " 'settings': {'__metadata__': {'label': 'Snakemake settings', 'required': []},\n",
       "  'use_physio': True,\n",
       "  'use_fieldmap': True},\n",
       " 'templates': {'__metadata__': {'label': 'String Formats', 'required': []},\n",
       "  'fmapPrefix': 'sub-{subject}_acq-{fmap_acquisition}_dir-{fmap_direction}_{fmap_suffix}',\n",
       "  'anatPrefix': 'sub-{subject}_{anat_suffix}',\n",
       "  'funcPrefix': 'sub-{subject}_task-{func_task}_run-{func_run}_{func_suffix}'}}"
      ]
     },
     "execution_count": 3,
     "metadata": {},
     "output_type": "execute_result"
    }
   ],
   "source": [
    "c.config"
   ]
  },
  {
   "cell_type": "code",
   "execution_count": 5,
   "id": "beginning-young",
   "metadata": {},
   "outputs": [
    {
     "data": {
      "text/plain": [
       "'/home/burtonjz/neuromake'"
      ]
     },
     "execution_count": 5,
     "metadata": {},
     "output_type": "execute_result"
    }
   ],
   "source": [
    "import os\n",
    "os.getcwd()"
   ]
  }
 ],
 "metadata": {
  "kernelspec": {
   "display_name": "Python 3",
   "language": "python",
   "name": "python3"
  },
  "language_info": {
   "codemirror_mode": {
    "name": "ipython",
    "version": 3
   },
   "file_extension": ".py",
   "mimetype": "text/x-python",
   "name": "python",
   "nbconvert_exporter": "python",
   "pygments_lexer": "ipython3",
   "version": "3.9.7"
  }
 },
 "nbformat": 4,
 "nbformat_minor": 5
}
